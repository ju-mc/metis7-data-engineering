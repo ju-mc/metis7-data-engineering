{
 "cells": [
  {
   "cell_type": "code",
   "execution_count": 11,
   "id": "b24083c3",
   "metadata": {},
   "outputs": [],
   "source": [
    "from pymongo import MongoClient\n",
    "from pprint import pprint\n",
    "import urllib.request"
   ]
  },
  {
   "cell_type": "code",
   "execution_count": 12,
   "id": "111516db",
   "metadata": {},
   "outputs": [],
   "source": [
    "client = MongoClient()\n",
    "db=client.NFTdbase\n",
    "db.collection_names()"
   ]
  },
  {
   "cell_type": "code",
   "execution_count": null,
   "id": "058a1e09",
   "metadata": {},
   "outputs": [],
   "source": [
    "#list(db.SupDucks.find({}, {'_id':0, 'thumbnail': 1}))"
   ]
  },
  {
   "cell_type": "code",
   "execution_count": 15,
   "id": "bd36eb24",
   "metadata": {},
   "outputs": [],
   "source": [
    "combined_final_lst=list(db.ghxsts_sd_r_fl.find({}, {'_id':0,'photos':1}))"
   ]
  },
  {
   "cell_type": "code",
   "execution_count": 5,
   "id": "7f3796e3",
   "metadata": {},
   "outputs": [],
   "source": [
    "def get_photos(lst):\n",
    "    photos_lst=[]\n",
    "    for dct in lst:\n",
    "        for key,val in dct.items():\n",
    "            #print(\"i: \",val)\n",
    "            if len(val)>1:\n",
    "                photos_lst.append(val)\n",
    "    return photos_lst\n",
    "\n",
    "    "
   ]
  },
  {
   "cell_type": "code",
   "execution_count": 16,
   "id": "4e0c8f58",
   "metadata": {},
   "outputs": [],
   "source": [
    "combined_final_photos=get_photos(combined_final_lst)"
   ]
  },
  {
   "cell_type": "code",
   "execution_count": 17,
   "id": "f0fda9c2",
   "metadata": {},
   "outputs": [],
   "source": [
    "def add_imgs_to_file(photos,directory):\n",
    "    \n",
    "    count=0\n",
    "    for plst in photos:\n",
    "        #print(plst)\n",
    "        for img_url in plst:\n",
    "            #print(img_url)\n",
    "            count+=1\n",
    "            try:\n",
    "                urllib.request.urlretrieve(img_url, '{0}/img_{1}.jpg'.format(directory,count))\n",
    "            except:\n",
    "                pass"
   ]
  },
  {
   "cell_type": "code",
   "execution_count": 18,
   "id": "5227c2a9",
   "metadata": {},
   "outputs": [],
   "source": [
    "add_imgs_to_file(combined_final_photos,'combined-images-final')"
   ]
  },
  {
   "cell_type": "code",
   "execution_count": 9,
   "id": "9798faf4",
   "metadata": {},
   "outputs": [],
   "source": [
    "def combine_jsons(path1,path2,new_json):\n",
    "    f1data = f2data = \"\" \n",
    "\n",
    "    with open(path1) as f1: \n",
    "        f1data = f1.read() \n",
    "    with open(path2) as f2: \n",
    "        f2data = f2.read() \n",
    "\n",
    "    f1data += \"\\n\"\n",
    "    f1data += f2data\n",
    "    with open (new_json, 'a') as f3: \n",
    "        f3.write(f1data)\n",
    "    return(f3)"
   ]
  },
  {
   "cell_type": "code",
   "execution_count": null,
   "id": "916f9217",
   "metadata": {},
   "outputs": [],
   "source": [
    "rarible_fl_combined=combine_jsons('twint/Rarible_data.json','twint/FameLady Squad_data.json','RandFL_Combined.json')"
   ]
  },
  {
   "cell_type": "code",
   "execution_count": null,
   "id": "699789fc",
   "metadata": {},
   "outputs": [],
   "source": [
    "supducks_combined_file=combine_jsons('RandFL_Combined.json','twint/SupDucks_data.json','SupDucks_R_FL.json')"
   ]
  },
  {
   "cell_type": "code",
   "execution_count": null,
   "id": "80a16c11",
   "metadata": {},
   "outputs": [],
   "source": [
    "ghxsts_sd_r_fl=combine_jsons('SupDucks_R_FL.json','twint/Ghxsts_data.json','ghxsts_sd_r_fl.json')"
   ]
  },
  {
   "cell_type": "code",
   "execution_count": 10,
   "id": "35222130",
   "metadata": {},
   "outputs": [],
   "source": [
    "combined_final=combine_jsons('ghxsts_sd_r_fl.json','twint/CryptoPunks_data.json','combined_nft_files.json')"
   ]
  },
  {
   "cell_type": "code",
   "execution_count": null,
   "id": "72eff3ac",
   "metadata": {},
   "outputs": [],
   "source": []
  },
  {
   "cell_type": "code",
   "execution_count": null,
   "id": "ea184ea9",
   "metadata": {},
   "outputs": [],
   "source": []
  },
  {
   "cell_type": "code",
   "execution_count": null,
   "id": "dc60bd7c",
   "metadata": {},
   "outputs": [],
   "source": []
  }
 ],
 "metadata": {
  "kernelspec": {
   "display_name": "Python [conda env:metis] *",
   "language": "python",
   "name": "conda-env-metis-py"
  },
  "language_info": {
   "codemirror_mode": {
    "name": "ipython",
    "version": 3
   },
   "file_extension": ".py",
   "mimetype": "text/x-python",
   "name": "python",
   "nbconvert_exporter": "python",
   "pygments_lexer": "ipython3",
   "version": "3.8.10"
  }
 },
 "nbformat": 4,
 "nbformat_minor": 5
}
